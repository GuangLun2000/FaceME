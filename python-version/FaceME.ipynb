{
 "cells": [
  {
   "cell_type": "code",
   "execution_count": 2,
   "metadata": {},
   "outputs": [],
   "source": [
    "import numpy as np\n",
    "import pandas as pd \n",
    "import copy\n",
    "import matplotlib.pyplot as plt\n",
    "from collections import Counter\n",
    "from collections import namedtuple\n",
    "from matplotlib import font_manager        #设置中文字体\n",
    "my_font = font_manager.FontProperties(fname='C:/Windows/Fonts/msyh.ttc')     #传入字体的位置\n",
    "from tempfile import TemporaryFile"
   ]
  },
  {
   "cell_type": "code",
   "execution_count": 2,
   "metadata": {},
   "outputs": [],
   "source": [
    "face_who = 2\n",
    "start = 61\n",
    "end = 3000"
   ]
  },
  {
   "cell_type": "code",
   "execution_count": 3,
   "metadata": {},
   "outputs": [
    {
     "data": {
      "image/png": "[encoded data removed]",
      "text/plain": [
       "<Figure size 600x400 with 1 Axes>"
      ]
     },
     "metadata": {
      "needs_background": "light"
     },
     "output_type": "display_data"
    },
    {
     "data": {
      "text/plain": [
       "4"
      ]
     },
     "execution_count": 3,
     "metadata": {},
     "output_type": "execute_result"
    }
   ],
   "source": [
    "#循环读入文件\n",
    "dict = {}\n",
    "for i in range(4):\n",
    "    #data = np.genfromtxt('D:\\Python files\\FaceMe\\RSSI%d.txt'%(i+1))\n",
    "    #data = np.genfromtxt('D:/论文/FACEME/数据/测试/RSSI%d.txt'%(i+1))\n",
    "    #data = np.genfromtxt('D:\\论文\\源码\\新建压缩文件\\例程\\FM+F2F+离线+在线上下界\\RSSI%d.txt'%(i+1))\n",
    "    #data = np.genfromtxt('D:/论文/FACEME/新建文件夹/RSSI%d.txt'%(i+1))\n",
    "    #data = np.genfromtxt('D:\\论文\\源码\\新建文件夹\\9.15\\RSSI%d.txt'%(i+1))\n",
    "    data = np.genfromtxt('E:/fuda/HMI/新建文件夹/LW/数据/1005r005/RSSI%d.txt'%(i+1))\n",
    "    \n",
    "    dict['节点%d'%(i+1)] = data[start:end]\n",
    "        \n",
    "#len(dict['节点6'])    \n",
    "df = pd.DataFrame(dict)\n",
    "\n",
    "x = df.index.tolist()\n",
    "#画图\n",
    "plt.figure(dpi = 100)\n",
    "for i in range(df.shape[1]):\n",
    "    y = df.iloc[:,i]\n",
    "    plot_fig1 = plt.plot(x,y,label = '节点{}'.format(i+1))\n",
    "    plt.legend(prop = my_font, loc= 'best')\n",
    "plt.xlabel('采样次数',fontproperties = my_font)\n",
    "plt.ylabel('RSSI',fontproperties = my_font)\n",
    "plt.title('七个节点原始数据RSSI分布图',fontproperties = my_font)\n",
    "plt.show()\n",
    "df.shape[1]"
   ]
  },
  {
   "cell_type": "code",
   "execution_count": 4,
   "metadata": {},
   "outputs": [
    {
     "name": "stdout",
     "output_type": "stream",
     "text": [
      "节点1最小值： -65.0\n",
      "节点1最大值： -52.0\n",
      "节点2最小值： -59.0\n",
      "节点2最大值： -51.0\n",
      "节点3最小值： -83.0\n",
      "节点3最大值： -56.0\n",
      "节点4最小值： -83.0\n",
      "节点4最大值： -56.0\n",
      "节点1方差：3.705636,均值：-57.632868\n",
      "节点2方差：1.994466,均值：-54.056142\n",
      "节点3方差：48.366022,均值：-64.137121\n",
      "节点4方差：48.366022,均值：-64.137121\n"
     ]
    }
   ],
   "source": [
    "print('节点1最小值：',min(df.iloc[:,0]))\n",
    "print('节点1最大值：',max(df.iloc[:,0]))\n",
    "print('节点2最小值：',min(df.iloc[:,1]))\n",
    "print('节点2最大值：',max(df.iloc[:,1]))\n",
    "print('节点3最小值：',min(df.iloc[:,2]))\n",
    "print('节点3最大值：',max(df.iloc[:,2]))\n",
    "print('节点4最小值：',min(df.iloc[:,3]))\n",
    "print('节点4最大值：',max(df.iloc[:,3]))\n",
    "\n",
    "print('节点1方差：%f,均值：%f'%(np.var((df.iloc[:,0])),np.mean((df.iloc[:,0]))))\n",
    "print('节点2方差：%f,均值：%f'%(np.var((df.iloc[:,1])),np.mean((df.iloc[:,1]))))\n",
    "print('节点3方差：%f,均值：%f'%(np.var((df.iloc[:,2])),np.mean((df.iloc[:,2]))))\n",
    "print('节点4方差：%f,均值：%f'%(np.var((df.iloc[:,3])),np.mean((df.iloc[:,3]))))"
   ]
  },
  {
   "cell_type": "markdown",
   "metadata": {},
   "source": [
    "# 定义函数：寻找最小ΔR"
   ]
  },
  {
   "cell_type": "code",
   "execution_count": 5,
   "metadata": {},
   "outputs": [],
   "source": [
    "def delta_min(face_who,df):\n",
    "    list_df = []\n",
    "    for i in range(df.shape[1]):\n",
    "        sublist_df = []\n",
    "        t = min(df.iloc[:,i])\n",
    "        t1 = max(df.iloc[:,i])\n",
    "        sublist_df.append(t)\n",
    "        sublist_df.append(t1)\n",
    "        list_df.append(sublist_df)\n",
    "    list_df1 = []\n",
    "    for j in range(len(list_df)):\n",
    "        if j != face_who-1:\n",
    "            t = list_df[face_who-1][0]-list_df[j][1]\n",
    "            list_df1.append(t)\n",
    "    return min(list_df1)  "
   ]
  },
  {
   "cell_type": "code",
   "execution_count": 6,
   "metadata": {},
   "outputs": [
    {
     "name": "stdout",
     "output_type": "stream",
     "text": [
      "-7.0\n",
      "原始整体数据最近点最小值|Rvalue|，12轮下界： -59.0\n",
      "原始整体数据除最近其他点最大|Rvalue|，12轮上界： -52.0\n"
     ]
    }
   ],
   "source": [
    "delta_1 = delta_min(face_who,df)\n",
    "print(delta_1)\n",
    "alldata_othernode = copy.deepcopy(df)\n",
    "alldata_othernode = alldata_othernode.drop(['节点%d'%(face_who)],axis=1)\n",
    "\n",
    "alldata_othernode_upperbound = alldata_othernode.max().max()            #求除去最近节点之外的最大值\n",
    "alldata_facenode_lowerbound = df[['节点%d'%(face_who)]].min().min()     #求最近节点的最小值   \n",
    "\n",
    "print('原始整体数据最近点最小值|Rvalue|，12轮下界：',alldata_facenode_lowerbound)\n",
    "print('原始整体数据除最近其他点最大|Rvalue|，12轮上界：',alldata_othernode_upperbound)\n"
   ]
  },
  {
   "cell_type": "markdown",
   "metadata": {},
   "source": [
    "# 均值滤波"
   ]
  },
  {
   "cell_type": "code",
   "execution_count": 7,
   "metadata": {},
   "outputs": [],
   "source": [
    "def np_move_avg(a,n,mode=\"valid\"):\n",
    "    return(np.convolve(a, np.ones((n,))/n, mode=mode))"
   ]
  },
  {
   "cell_type": "markdown",
   "metadata": {},
   "source": [
    "# find_seconddeal_need_node 寻找第二轮所需要的节点 "
   ]
  },
  {
   "cell_type": "code",
   "execution_count": 8,
   "metadata": {},
   "outputs": [],
   "source": [
    "def find_seconddeal_need_node(index,collecttime,r_everytime):\n",
    "    for i in range(len(r_everytime)):\n",
    "        if index == i:\n",
    "            second_initial = r_everytime[i][1:collecttime+1]\n",
    "    return second_initial\n"
   ]
  },
  {
   "cell_type": "code",
   "execution_count": 9,
   "metadata": {},
   "outputs": [],
   "source": [
    "everygroup_num = 30  #分组，每组多少个数\n",
    "sample_num=10        #采样数\n",
    "r_firstvalue_grouped1 = []\n",
    "r_Gauss_grouped1 = []\n",
    "F2F_EWMA_grouped = []\n",
    "F2F_mean_grouped = []\n",
    "deltaR_everygroup = {'Firstvalue':[], 'Gauss':[]}\n",
    "relative_Rmax_Rface1 = []\n",
    "relative_Rmax_Rface2 = []\n",
    "for i in range(int(df.shape[0]/everygroup_num)):\n",
    "    r_firstvalue_grouped = []\n",
    "    r_samplenum_grouped = {}\n",
    "    r_Gauss_grouped={}\n",
    "    for j in range(df.shape[1]):\n",
    "        r_firstvalue_grouped.append(df.iloc[i*everygroup_num,j])       #每组第1个值\n",
    "        r_samplenum_grouped[j] = df.iloc[(1+i*everygroup_num):(sample_num+1+i*everygroup_num),j].tolist() #每组除去第一个值的前10个值\n",
    "        r_Gauss_grouped['节点%d'%(j+1)] = np_move_avg(r_samplenum_grouped[j],sample_num)[0]\n",
    "    r_firstvalue_grouped1.append(r_firstvalue_grouped)\n",
    "    r_Gauss_grouped1.append(r_Gauss_grouped)\n",
    "    \n",
    "    F2F_mean_grouped.append(np.mean(df.iloc[(1+i*everygroup_num):(sample_num+1+i*everygroup_num),face_who-1]))\n",
    "\n",
    "    for m in range(sample_num):\n",
    "        if m == 0:\n",
    "            E = r_samplenum_grouped[face_who-1][m]\n",
    "        else:\n",
    "            E = r_samplenum_grouped[face_who-1][m]*0.5 + E*0.5\n",
    "    F2F_EWMA_grouped.append(E)\n",
    "    \n",
    "    aa = pd.DataFrame(r_firstvalue_grouped1[i])\n",
    "    bb = pd.DataFrame(r_Gauss_grouped1[i],index = [0])\n",
    "    deltaR_everygroup['Firstvalue'].append(delta_min(face_who,aa.T))   \n",
    "    deltaR_everygroup['Gauss'].append(delta_min(face_who,bb))\n",
    "    \n",
    "    \n",
    "    #寻找最大值的索引\n",
    "    index_1 = []\n",
    "    Rmax_1 = max(r_firstvalue_grouped1[i])\n",
    "    for k in range(len(r_firstvalue_grouped1[i])): \n",
    "        if r_firstvalue_grouped1[i][k] == Rmax_1:\n",
    "            index_1.append(k)\n",
    "    Rmax_num_1 = len(index_1)\n",
    "    #relative_Rmax_Rface_1 = []\n",
    "    if Rmax_num_1 == 1:\n",
    "         relative_Rmax_Rface1.append(index_1[0]-(face_who-1)) \n",
    "    else:\n",
    "        for h in range(Rmax_num_1):\n",
    "            relative_Rmax_Rface1.append(index_1[h]-(face_who-1))\n",
    "    #relative_Rmax_Rface1.append(relative_Rmax_Rface_1)\n",
    "    \n",
    "    index_2 = []\n",
    "    Rmax_2 = max(r_Gauss_grouped1[i].values())\n",
    "    for k in range(len(r_Gauss_grouped1[i].values())): \n",
    "        if r_Gauss_grouped1[i]['节点%d'%(k+1)] == Rmax_2:\n",
    "            index_2.append(k)\n",
    "    Rmax_num_2 = len(index_2)\n",
    "    #relative_Rmax_Rface_2 = []\n",
    "    if Rmax_num_2 == 1:\n",
    "         relative_Rmax_Rface2.append(index_2[0]-(face_who-1)) \n",
    "    else:\n",
    "        for h in range(Rmax_num_2):\n",
    "            relative_Rmax_Rface2.append(index_2[h]-(face_who-1))\n",
    "    #relative_Rmax_Rface2.append(relative_Rmax_Rface_2)"
   ]
  },
  {
   "cell_type": "code",
   "execution_count": 10,
   "metadata": {},
   "outputs": [
    {
     "data": {
      "text/plain": [
       "-2.0"
      ]
     },
     "execution_count": 10,
     "metadata": {},
     "output_type": "execute_result"
    }
   ],
   "source": [
    "#横向对比\n",
    "#寻找r_firstvalue_grouped1的最小值\n",
    "df1 = pd.DataFrame(r_firstvalue_grouped1)\n",
    "delta_1_grouped = delta_min(face_who,df1)\n",
    "delta_1_grouped"
   ]
  },
  {
   "cell_type": "code",
   "execution_count": 11,
   "metadata": {},
   "outputs": [
    {
     "data": {
      "text/plain": [
       "2.200000000000003"
      ]
     },
     "execution_count": 11,
     "metadata": {},
     "output_type": "execute_result"
    }
   ],
   "source": [
    "#横向对比\n",
    "#寻找r_firstvalue_grouped1的最小值\n",
    "df2 = pd.DataFrame(r_Gauss_grouped1)\n",
    "delta_2_grouped = delta_min(face_who,df2)\n",
    "delta_2_grouped"
   ]
  },
  {
   "cell_type": "code",
   "execution_count": 12,
   "metadata": {},
   "outputs": [
    {
     "data": {
      "text/plain": [
       "-2.0"
      ]
     },
     "execution_count": 12,
     "metadata": {},
     "output_type": "execute_result"
    }
   ],
   "source": [
    "#不横向对比\n",
    "delta_1_min = min( deltaR_everygroup['Firstvalue'])\n",
    "delta_1_min"
   ]
  },
  {
   "cell_type": "code",
   "execution_count": 13,
   "metadata": {},
   "outputs": [
    {
     "data": {
      "text/plain": [
       "2.5999999999999943"
      ]
     },
     "execution_count": 13,
     "metadata": {},
     "output_type": "execute_result"
    }
   ],
   "source": [
    "#不横向对比\n",
    "delta_2_min = min( deltaR_everygroup['Gauss'])\n",
    "delta_2_min"
   ]
  },
  {
   "cell_type": "code",
   "execution_count": 14,
   "metadata": {},
   "outputs": [
    {
     "data": {
      "text/plain": [
       "-54.6"
      ]
     },
     "execution_count": 14,
     "metadata": {},
     "output_type": "execute_result"
    }
   ],
   "source": [
    "#m次滤波后目标机器2筛滤波后最近点的最小值\n",
    "face_gauss_filtered_min_Rvalue = min(df2.iloc[:,face_who-1])       #df2 是r_Gauss_grouped1的DateFrame形式\n",
    "face_gauss_filtered_min_Rvalue"
   ]
  },
  {
   "cell_type": "code",
   "execution_count": 15,
   "metadata": {},
   "outputs": [
    {
     "data": {
      "text/plain": [
       "-56.0"
      ]
     },
     "execution_count": 15,
     "metadata": {},
     "output_type": "execute_result"
    }
   ],
   "source": [
    "#第一次目标机器，1筛每组第一个数的最小值\n",
    "face_first_value_min_Rvalue = min(df1.iloc[:,face_who-1])          #df1 是r_firstvalue_grouped1的DateFrame形式\n",
    "face_first_value_min_Rvalue"
   ]
  },
  {
   "cell_type": "code",
   "execution_count": 16,
   "metadata": {},
   "outputs": [
    {
     "data": {
      "text/plain": [
       "-56.800000000000004"
      ]
     },
     "execution_count": 16,
     "metadata": {},
     "output_type": "execute_result"
    }
   ],
   "source": [
    "NearbyNode_r_Gauss_grouped = copy.deepcopy(df2)\n",
    "NearbyNode_r_Gauss_grouped = NearbyNode_r_Gauss_grouped.drop(['节点%d'%(face_who)],axis=1)\n",
    "Notface_gauss_filtered_max_Rvalue = NearbyNode_r_Gauss_grouped.max().max()\n",
    "Notface_gauss_filtered_max_Rvalue"
   ]
  },
  {
   "cell_type": "code",
   "execution_count": 17,
   "metadata": {},
   "outputs": [
    {
     "data": {
      "text/plain": [
       "-54.0"
      ]
     },
     "execution_count": 17,
     "metadata": {},
     "output_type": "execute_result"
    }
   ],
   "source": [
    "NearbyNode_r_firstvalue_grouped = copy.deepcopy(df1)\n",
    "NearbyNode_r_firstvalue_grouped = NearbyNode_r_firstvalue_grouped.drop([face_who-1],axis=1)\n",
    "Notface_first_value_max_Rvalue = NearbyNode_r_firstvalue_grouped.max().max()\n",
    "Notface_first_value_max_Rvalue"
   ]
  },
  {
   "cell_type": "code",
   "execution_count": 18,
   "metadata": {},
   "outputs": [
    {
     "name": "stdout",
     "output_type": "stream",
     "text": [
      "deltaR1： -2.0\n",
      "deltaR2： 2.5999999999999943\n",
      "最近点第一个值最小|Rvalue|，1轮下界： -56.0\n",
      "最近点滤波后最小|Rvalue|，2轮下界： -54.6\n",
      "除最近点其他点第一个值最大|Rvalue|，1轮上界： -54.0\n",
      "除最近点其他点滤波后最大|Rvalue|，2轮上界： -56.800000000000004\n"
     ]
    }
   ],
   "source": [
    "print('deltaR1：',delta_1_min)\n",
    "print('deltaR2：',delta_2_min)\n",
    "print('最近点第一个值最小|Rvalue|，1轮下界：',face_first_value_min_Rvalue)\n",
    "print('最近点滤波后最小|Rvalue|，2轮下界：',face_gauss_filtered_min_Rvalue)\n",
    "print('除最近点其他点第一个值最大|Rvalue|，1轮上界：',Notface_first_value_max_Rvalue)\n",
    "print('除最近点其他点滤波后最大|Rvalue|，2轮上界：',Notface_gauss_filtered_max_Rvalue)\n"
   ]
  },
  {
   "cell_type": "code",
   "execution_count": 19,
   "metadata": {},
   "outputs": [
    {
     "name": "stdout",
     "output_type": "stream",
     "text": [
      "从Rmax位置移动0个位置有91组数据\n",
      "从Rmax位置左移1个位置有0组数据\n",
      "从Rmax位置右移1个位置有6组数据\n"
     ]
    }
   ],
   "source": [
    "#输出Rmax位置和Rface的相对关系\n",
    "\n",
    "shift_max = max(abs(i) for i in relative_Rmax_Rface1)\n",
    "# left_shift_max = max(i for i in relative_Rmax_Rface1 if i>=0)\n",
    "# right_shift_max = 0-min(i for i in relative_Rmax_Rface1 if i<=0)\n",
    "# shift_max=max(left_shift_max,right_shift_max)                   #计算左移或右移的最大值\n",
    "#对于最近点正好是Rmax，即移动0，也需要记录\n",
    "\n",
    "left_right_no_shift = len(list(i for i in relative_Rmax_Rface1 if i==0))\n",
    "print('从Rmax位置移动0个位置有%d组数据'%left_right_no_shift)\n",
    "for i in range(shift_max):\n",
    "    shift_left = len(list(j for j in relative_Rmax_Rface1 if j==i+1))\n",
    "    shift_right = len(list(j for j in relative_Rmax_Rface1 if j==-(i+1)))\n",
    "    print('从Rmax位置左移%d个位置有%d组数据'%(i+1,shift_left))\n",
    "    print('从Rmax位置右移%d个位置有%d组数据'%(i+1,shift_right))"
   ]
  },
  {
   "cell_type": "code",
   "execution_count": 20,
   "metadata": {},
   "outputs": [
    {
     "name": "stdout",
     "output_type": "stream",
     "text": [
      "从Rmax位置移动0个位置有97组数据\n"
     ]
    }
   ],
   "source": [
    "shift_max1 = max(abs(i) for i in relative_Rmax_Rface2)\n",
    "        \n",
    "\n",
    "# left_shift_max1 = max(i for i in relative_Rmax_Rface2 if i>=0)\n",
    "# right_shift_max1 = 0-min(i for i in relative_Rmax_Rface2 if i<=0)\n",
    "# shift_max1 = max(left_shift_max1,right_shift_max1)                   #计算左移或右移的最大值\n",
    "\n",
    "left_right_no_shift1 = len(list(i for i in relative_Rmax_Rface2 if i==0))\n",
    "print('从Rmax位置移动0个位置有%d组数据'%left_right_no_shift1)\n",
    "for i in range(shift_max1):\n",
    "    shift_left1 = len(list(j for j in relative_Rmax_Rface2 if j==i+1))\n",
    "    shift_right1 = len(list(j for j in relative_Rmax_Rface2 if j==-(i+1)))\n",
    "    print('从Rmax位置左移%d个位置有%d组数据'%(i+1,shift_left1))\n",
    "    print('从Rmax位置右移%d个位置有%d组数据'%(i+1,shift_right1))"
   ]
  },
  {
   "cell_type": "markdown",
   "metadata": {},
   "source": [
    "# 画图 "
   ]
  },
  {
   "cell_type": "code",
   "execution_count": 21,
   "metadata": {},
   "outputs": [],
   "source": [
    "# x = df.index.tolist()\n",
    "# #画图\n",
    "# plt.figure(dpi = 100)\n",
    "# for i in range(df.shape[1]):\n",
    "#     y = df.iloc[:,i]\n",
    "#     plot_fig1 = plt.plot(x,y,label = '节点{}'.format(i+1))\n",
    "#     plt.legend(prop = my_font, loc= 'best')\n",
    "# plt.xlabel('采样次数',fontproperties = my_font)\n",
    "# plt.ylabel('RSSI',fontproperties = my_font)\n",
    "# plt.title('七个节点原始数据RSSI分布图',fontproperties = my_font)\n",
    "# plt.show()"
   ]
  },
  {
   "cell_type": "code",
   "execution_count": 22,
   "metadata": {},
   "outputs": [
    {
     "name": "stdout",
     "output_type": "stream",
     "text": [
      "均值滤波阈值：平均 -54.08144329896907\n",
      "均值滤波阈值：最小 -54.6\n",
      "EWMA滤波阈值：平均 -54.07081588273196\n",
      "EWMA滤波阈值：最小 -55.46484375\n"
     ]
    }
   ],
   "source": [
    "min_average_threshold_F2F=min(F2F_mean_grouped)\n",
    "mean_average_F2F=np.mean(F2F_mean_grouped)\n",
    "min_EWMA_threshold_F2F=min(F2F_EWMA_grouped)\n",
    "mean_EWMA_F2F=np.mean(F2F_EWMA_grouped)\n",
    "print('均值滤波阈值：平均',mean_average_F2F)\n",
    "print('均值滤波阈值：最小',min_average_threshold_F2F)\n",
    "print('EWMA滤波阈值：平均',mean_EWMA_F2F)\n",
    "print('EWMA滤波阈值：最小',min_EWMA_threshold_F2F)"
   ]
  },
  {
   "cell_type": "markdown",
   "metadata": {},
   "source": [
    "# 保存参数结果 "
   ]
  },
  {
   "cell_type": "code",
   "execution_count": 23,
   "metadata": {},
   "outputs": [
    {
     "name": "stdout",
     "output_type": "stream",
     "text": [
      "<_io.TextIOWrapper name='参数设置' mode='w' encoding='utf-8'>\n"
     ]
    }
   ],
   "source": [
    "index = 1\n",
    "f_1 = open('参数设置', 'w', encoding='utf-8')\n",
    "f_1.write('不同dxdy：%d\\n'%index)\n",
    "f_1.write('不同采样数m：%d\\n'%sample_num)\n",
    "f_1.write('deltaR1：%0.3f\\n'%delta_1_min)\n",
    "f_1.write('deltaR2：%0.3f\\n'%delta_2_min)\n",
    "f_1.write('最近点第一个值最小|Rvalue|，1轮下界：%0.3f\\n'%face_first_value_min_Rvalue)\n",
    "f_1.write('最近点滤波后最小|Rvalue|，2轮下界：%0.3f\\n'%face_gauss_filtered_min_Rvalue)\n",
    "f_1.write('除最近点其他点第一个值最大|Rvalue|，1轮上界：%0.3f\\n'%Notface_first_value_max_Rvalue)\n",
    "f_1.write('除最近点其他点滤波后最大|Rvalue|，2轮上界：%0.3f\\n'%Notface_gauss_filtered_max_Rvalue)\n",
    "f_1.write('均值滤波阈值：%0.3f平均\\n'%mean_average_F2F)\n",
    "f_1.write('均值滤波阈值：%0.3f最小\\n'%min_average_threshold_F2F)\n",
    "f_1.write('EWMA滤波阈值：%0.3f平均\\n'%mean_EWMA_F2F)\n",
    "f_1.write('EWMA滤波阈值：%0.3f最小\\n'%min_EWMA_threshold_F2F)\n",
    "f_1.write('原始整体数据最近点最小值|Rvalue|，12轮下界：%0.3f\\n'%alldata_facenode_lowerbound)\n",
    "f_1.write('原始整体数据除最近其他点最大|Rvalue|，12轮上界：%0.3f\\n'%alldata_othernode_upperbound)\n",
    "print(f_1)\n",
    "f_1.close()"
   ]
  },
  {
   "cell_type": "markdown",
   "metadata": {},
   "source": [
    "# FaceME_7node_NewAlgorithm3"
   ]
  },
  {
   "cell_type": "code",
   "execution_count": 24,
   "metadata": {},
   "outputs": [],
   "source": [
    "facewho=4\n",
    "data_sample=30      #分组之后的每组个数\n",
    "BLE_num=4\n",
    "if sample_num==30:\n",
    "    collecttime=29   #选取的样本数量,注意FM的样本数量要少1，第一个数用来第一次筛选\n",
    "else:\n",
    "    collecttime=sample_num"
   ]
  },
  {
   "cell_type": "code",
   "execution_count": 25,
   "metadata": {
    "scrolled": true
   },
   "outputs": [],
   "source": [
    "size_select_node=list(np.zeros(10).astype(int))    #存放结果\n",
    "select_mode_show = []           #记录筛选情况\n",
    "succeed_count=0\n",
    "f_2 = open('FaceME结果', 'w', encoding='utf-8')\n",
    "for  i in range(int(df.shape[0]/data_sample)):\n",
    "    r_everytime = []\n",
    "    first_initial = []\n",
    "    second_initial = []\n",
    "    gauss = []\n",
    "    gauss_sort = []\n",
    "    filter_result = list(np.zeros(df.shape[1]).astype(int))\n",
    "    #先取出单次需要的数据个数(即分组，按循环次数),每次换组都会覆盖数据+取出每组的第一个数\n",
    "    for j in range(df.shape[1]):    \n",
    "        r_everytime.append(df.iloc[(i*data_sample):((i+1)*data_sample),j].tolist())\n",
    "        first_initial.append(r_everytime[j][0])\n",
    "    #开始第一轮筛选，先判断条件，是否第一轮可直接选出\n",
    "    first_sort = sorted(first_initial,reverse=True)      #降序排列\n",
    "    first_max = first_sort[0]\n",
    "     \n",
    "    first_index = [h for h in range(len(first_initial)) if first_initial[h]>Notface_first_value_max_Rvalue]\n",
    "    first_select_node_num = len(first_index)              # 找出筛选出几个点\n",
    "    \n",
    "    if first_select_node_num == 1:                 \n",
    "        select_mode = 1                   #筛选出一个点，直接选      \n",
    "    else:\n",
    "        if first_select_node_num > 0:                    \n",
    "            select_mode = 2                   #筛选出 大于一个点， 需进行二次筛选\n",
    "        else:\n",
    "            select_mode = 3                   #没有筛选出点，需进行二次筛选\n",
    "    select_mode_show.append(select_mode)  ##记录筛选情况\n",
    "    \n",
    "    if select_mode == 1:\n",
    "        if(first_index[0] == (facewho-1)):\n",
    "            succeed_count=succeed_count+1\n",
    "        \n",
    "        f_2.write('筛选出节点的个数：1\\n')\n",
    "        f_2.write('节点：%d\\n'%(first_index[0]+1))\n",
    "        size_select_node[first_select_node_num] = size_select_node[first_select_node_num]+1\n",
    "    elif select_mode == 2:\n",
    "        for k in range(first_select_node_num):\n",
    "            second_initial.append(find_seconddeal_need_node(first_index[k],collecttime,r_everytime))\n",
    "            gauss.append(np.mean(second_initial[k]))\n",
    "    elif select_mode == 3:\n",
    "        #重新第一轮筛选\n",
    "        first_index = [h for h in range(len(first_initial)) if first_initial[h]>=face_first_value_min_Rvalue and first_initial[h]<0]\n",
    "        first_select_node_num = len(first_index)\n",
    "        for k1 in range(first_select_node_num):\n",
    "            second_initial.append(find_seconddeal_need_node(first_index[k1],collecttime,r_everytime))\n",
    "            gauss.append(np.mean(second_initial[k1]))\n",
    "    if select_mode>1 and first_select_node_num != 0:\n",
    "        #找出滤波后的最小值，为第二轮滤波做准备\n",
    "        gauss_sort=sorted(gauss, reverse=True)\n",
    "        filter_max = gauss_sort[0]\n",
    "        #将滤波之后的值存到结果数组的对应索引的位置吗，其他地方补0\n",
    "        for i1 in range(first_select_node_num):\n",
    "            filter_result[first_index[i1]] = gauss[i1]\n",
    "        #开始第二轮筛选，判断是否可以2轮直选，不行的话再切\n",
    "        if filter_max>Notface_gauss_filtered_max_Rvalue:\n",
    "            final_index = [h for h in range(len(filter_result)) if filter_result[h]>Notface_gauss_filtered_max_Rvalue and filter_result[h]<0]\n",
    "        else:\n",
    "            final_index = [h for h in range(len(filter_result)) if filter_result[h]>=face_gauss_filtered_min_Rvalue and filter_result[h]<0]\n",
    "            \n",
    "        final_index_num = len(final_index)       #仅仅找出筛选出几个点\n",
    "       \n",
    "        size_select_node[final_index_num] = size_select_node[final_index_num]+1\n",
    "        \n",
    "        f_2.write('筛选出节点的个数：%d\\n'%final_index_num)\n",
    "        \n",
    "        for g in range(final_index_num):\n",
    "            f_2.write('节点：%d\\n'%(final_index[g]+1))\n",
    "            if final_index[g] == (facewho-1):\n",
    "                succeed_count=succeed_count+1\n",
    "    elif select_mode>1 and first_select_node_num == 0:\n",
    "        f_2.write('筛选出节点的个数：0\\n')\n",
    "        f_2.write('节点：%d\\n'%0)\n",
    "        size_select_node[first_select_node_num] = size_select_node[first_select_node_num]+1\n"
   ]
  },
  {
   "cell_type": "code",
   "execution_count": 26,
   "metadata": {},
   "outputs": [
    {
     "name": "stdout",
     "output_type": "stream",
     "text": [
      "成功率： 0.0\n"
     ]
    },
    {
     "data": {
      "text/plain": [
       "6"
      ]
     },
     "execution_count": 26,
     "metadata": {},
     "output_type": "execute_result"
    }
   ],
   "source": [
    "succeed_ratio = succeed_count/(df.shape[0]/data_sample)*100\n",
    "print('成功率：', succeed_ratio)\n",
    "f_2.write('成功率：%d\\n'%succeed_ratio)"
   ]
  },
  {
   "cell_type": "code",
   "execution_count": 27,
   "metadata": {},
   "outputs": [
    {
     "name": "stdout",
     "output_type": "stream",
     "text": [
      "筛选出：1个节点：97\n"
     ]
    }
   ],
   "source": [
    "for n in range(len(size_select_node)):\n",
    "    if size_select_node[n]!=0:\n",
    "        print('筛选出：%d个节点：%d'%(n,size_select_node[n]))\n",
    "        f_2.write('筛选出：%d个节点：%d'%(n,size_select_node[n]))\n",
    "f_2.close()"
   ]
  },
  {
   "cell_type": "code",
   "execution_count": 28,
   "metadata": {},
   "outputs": [
    {
     "data": {
      "text/plain": [
       "0.0"
      ]
     },
     "execution_count": 28,
     "metadata": {},
     "output_type": "execute_result"
    }
   ],
   "source": [
    "succeed_ratio"
   ]
  },
  {
   "cell_type": "code",
   "execution_count": 29,
   "metadata": {},
   "outputs": [
    {
     "data": {
      "text/plain": [
       "97.96666666666667"
      ]
     },
     "execution_count": 29,
     "metadata": {},
     "output_type": "execute_result"
    }
   ],
   "source": [
    "(df.shape[0]/data_sample)"
   ]
  },
  {
   "cell_type": "code",
   "execution_count": null,
   "metadata": {},
   "outputs": [],
   "source": []
  },
  {
   "cell_type": "code",
   "execution_count": null,
   "metadata": {},
   "outputs": [],
   "source": []
  },
  {
   "cell_type": "code",
   "execution_count": null,
   "metadata": {},
   "outputs": [],
   "source": []
  }
 ],
 "metadata": {
  "kernelspec": {
   "display_name": "Python 3",
   "language": "python",
   "name": "python3"
  },
  "language_info": {
   "codemirror_mode": {
    "name": "ipython",
    "version": 3
   },
   "file_extension": ".py",
   "mimetype": "text/x-python",
   "name": "python",
   "nbconvert_exporter": "python",
   "pygments_lexer": "ipython3",
   "version": "3.8.8"
  }
 },
 "nbformat": 4,
 "nbformat_minor": 4
}
